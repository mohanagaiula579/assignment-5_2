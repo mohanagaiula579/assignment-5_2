{
 "cells": [
  {
   "cell_type": "code",
   "execution_count": null,
   "id": "b5e0d8ee-2bef-4936-929a-7c5e243d0135",
   "metadata": {},
   "outputs": [],
   "source": []
  },
  {
   "cell_type": "code",
   "execution_count": 2,
   "id": "a94b54d6-c930-4b81-adff-940fb7e13b9e",
   "metadata": {},
   "outputs": [],
   "source": [
    "import requests\n",
    "\n",
    "from langchain.chat_models import ChatOpenAI\n",
    "from langchain.tools import Tool\n",
    "from langchain.schema import SystemMessage, HumanMessage, AIMessage\n",
    "from langgraph.checkpoint.memory import MemorySaver\n",
    "from langgraph.graph import StateGraph, MessagesState\n",
    "\n",
    "\n"
   ]
  },
  {
   "cell_type": "code",
   "execution_count": 12,
   "id": "c60bed4a-d321-4a81-8cde-b6b77a2d32a7",
   "metadata": {},
   "outputs": [],
   "source": [
    "@tool\n",
    "def weather_tool(location: str) -> str:\n",
    "    \"\"\"STRICT WEATHER TOOL - Only for current weather conditions. Requires exact location format 'City,CountryCode'.\"\"\"\n",
    "    try:\n",
    "        url = f\"http://api.openweathermap.org/data/2.5/weather?q={location}&appid=426c9a09ea63f1c63a84e43b7c3fbe1d&units=metric\"\n",
    "        data = requests.get(url).json()\n",
    "        if data.get('cod') != 200:\n",
    "            raise ValueError(data.get('message', 'Unknown error'))\n",
    "        return f\"Weather in {location}: {data['weather'][0]['description'].capitalize()}, {data['main']['temp']}°C, Humidity: {data['main']['humidity']}%\"\n",
    "    except Exception as e:\n",
    "        return f\"WEATHER_ERROR: {str(e)}\"\n",
    "\n",
    "\n",
    "\n"
   ]
  },
  {
   "cell_type": "code",
   "execution_count": 13,
   "id": "ec26d726-54aa-4046-99cc-b3e1954676ec",
   "metadata": {},
   "outputs": [],
   "source": [
    "@tool\n",
    "def dictionary_tool(word: str) -> str:\n",
    "    \"\"\"Return the dictionary definition of a word.\"\"\"\n",
    "    url = f\"https://api.dictionaryapi.dev/api/v2/entries/en/{word}\"\n",
    "    response = requests.get(url)\n",
    "    if response.status_code == 200:\n",
    "        data = response.json()\n",
    "        definition = data[0][\"meanings\"][0][\"definitions\"][0][\"definition\"]\n",
    "        return f\"Definition of {word}: {definition}\"\n",
    "    return \"No definition found.\""
   ]
  },
  {
   "cell_type": "code",
   "execution_count": 14,
   "id": "428d84f2-d146-46e0-ae98-a8ef0e7d75c2",
   "metadata": {},
   "outputs": [],
   "source": [
    "    \n",
    "@tool\n",
    "def news_tool(topic: str = \"general\") -> str:\n",
    "    \"\"\"STRICT NEWS TOOL - Only for recent headlines. Valid topics: business, technology, science, health.\"\"\"\n",
    "    try:\n",
    "        valid_topics = ['business', 'technology', 'science', 'health', 'general']\n",
    "        topic = topic.lower() if topic.lower() in valid_topics else 'general'\n",
    "        url = f\"https://newsapi.org/v2/top-headlines?category={topic}&apiKey=6789ceab523a4a8690d965e4c1c3502b\"\n",
    "        articles = requests.get(url).json().get('articles', [])[:3]\n",
    "        if not articles:\n",
    "            raise ValueError(\"No articles found\")\n",
    "        return f\"Latest {topic} news:\\n\" + \"\\n\".join([f\"• {a['title']}\" for a in articles])\n",
    "    except Exception as e:\n",
    "        return f\"NEWS_ERROR: {str(e)}\""
   ]
  },
  {
   "cell_type": "code",
   "execution_count": 29,
   "id": "3bf38880-72ce-4e36-95a3-b5c489e80561",
   "metadata": {},
   "outputs": [],
   "source": [
    "from dotenv import load_dotenv\n",
    "import os\n",
    "from langchain_openai import AzureChatOpenAI\n",
    "from langgraph.graph import StateGraph, END\n",
    "from langgraph.graph.message import add_messages\n",
    "\n",
    "\n",
    "load_dotenv()\n",
    "\n",
    "os.environ[\"OPENAI_API_TYPE\"] = \"azure\"\n",
    "os.environ[\"OPENAI_API_VERSION\"] = \"2024-12-01-preview\"\n",
    "os.environ[\"OPENAI_API_BASE\"] = os.getenv(\"AZURE_OPENAI_ENDPOINT\")\n",
    "os.environ[\"OPENAI_API_KEY\"] = os.getenv(\"AZURE_OPENAI_API_KEY\")\n",
    "\n",
    "\n",
    "llm = AzureChatOpenAI(\n",
    "        azure_deployment=\"GPTO4_training\",\n",
    "        api_version=\"2024-12-01-preview\",\n",
    "        azure_endpoint=os.environ[\"OPENAI_API_BASE\"],\n",
    "        api_key=os.environ[\"OPENAI_API_KEY\"]\n",
    "    )\n",
    "\n",
    "\n",
    "\n",
    "\n",
    "tools = [weather_tool, dictionary_tool, news_tool]\n",
    "llm_with_tools = llm.bind_tools(tools)\n",
    "memory = MemorySaver()\n"
   ]
  },
  {
   "cell_type": "code",
   "execution_count": 37,
   "id": "6ab26c0e-4f80-4db1-b810-2d64ca558c1f",
   "metadata": {},
   "outputs": [],
   "source": []
  },
  {
   "cell_type": "code",
   "execution_count": null,
   "id": "4a3b14f0-428a-4c81-a8fe-9302daee91b8",
   "metadata": {},
   "outputs": [
    {
     "name": "stdout",
     "output_type": "stream",
     "text": [
      "🤖 LangGraph Assistant: Type 'exit' to quit\n"
     ]
    },
    {
     "name": "stdin",
     "output_type": "stream",
     "text": [
      "\n",
      "You:  weather in delhi\n"
     ]
    },
    {
     "name": "stdout",
     "output_type": "stream",
     "text": [
      "Assistant: The current weather in Delhi, IN:\n",
      "- Conditions: Overcast clouds\n",
      "- Temperature: 30.56°C\n",
      "- Humidity: 61%\n"
     ]
    },
    {
     "name": "stdin",
     "output_type": "stream",
     "text": [
      "\n",
      "You:  my name is mohana gowthami , what is prohibition meaning\n"
     ]
    },
    {
     "name": "stdout",
     "output_type": "stream",
     "text": [
      "Assistant: Hello Mohana Gowthami!  \n",
      "“Prohibition” means:\n",
      "\n",
      "• An act of formally forbidding or disallowing something by law, rule, or authority  \n",
      "• The condition of being forbidden or not permitted  \n",
      "\n",
      "Example sentence:  \n",
      "• “The prohibition of smoking in public places helps protect people’s health.”\n"
     ]
    },
    {
     "name": "stdin",
     "output_type": "stream",
     "text": [
      "\n",
      "You:  latest news about AI\n"
     ]
    },
    {
     "name": "stdout",
     "output_type": "stream",
     "text": [
      "Assistant: It looks like our latest “technology” headlines don’t include any AI-specific stories right now. Would you like me to:\n",
      "\n",
      "• Pull a fresh set of general “technology” headlines and see if any mention AI?  \n",
      "• Try another category (e.g. “science” or “business”)?  \n",
      "• Or perhaps I can summarize recent major AI developments from publicly available sources? Let me know!\n"
     ]
    },
    {
     "name": "stdin",
     "output_type": "stream",
     "text": [
      "\n",
      "You:  what is my name , latest articles about sciencde\n"
     ]
    },
    {
     "name": "stdout",
     "output_type": "stream",
     "text": [
      "Assistant: Your name is Mohana Gowthami.  \n",
      "Here are the latest science news headlines:\n",
      "\n",
      "• “We Found a Lost World Under the Sea”: Archaeologists uncover 140,000-year-old submerged land teeming with ancient giants and vanished humans – Rude Baguette  \n",
      "• Confirmed: Uranus Really Is Hotter Than It Has Any Right to Be – ScienceAlert  \n",
      "• Researchers make astonishing discovery that could reshape $900 million food sector: “This breakthrough is incredibly important” – The Cool Down\n"
     ]
    },
    {
     "name": "stdin",
     "output_type": "stream",
     "text": [
      "\n",
      "You:  what is my last question \n"
     ]
    },
    {
     "name": "stdout",
     "output_type": "stream",
     "text": [
      "Assistant: Your previous question was: “what is my name , latest articles about sciencde”\n"
     ]
    }
   ],
   "source": [
    "\n",
    "from typing import TypedDict, Sequence, Annotated\n",
    "from langchain_core.messages import BaseMessage, HumanMessage, AIMessage, ToolMessage\n",
    "\n",
    "\n",
    "# Define State\n",
    "class State(TypedDict):\n",
    "    messages: Annotated[Sequence[BaseMessage], lambda x, y: x + y]\n",
    "\n",
    "# Define Nodes\n",
    "def chatbot_node(state: State):\n",
    "    messages = state[\"messages\"]\n",
    "    response = llm_with_tools.invoke(messages)\n",
    "    return {\"messages\": [response]}\n",
    "\n",
    "def tool_runner_node(state: State):\n",
    "    messages = state[\"messages\"]\n",
    "    last_message = messages[-1]\n",
    "    \n",
    "    if not hasattr(last_message, \"tool_calls\"):\n",
    "        return {\"messages\": []}\n",
    "    \n",
    "    tool_results = []\n",
    "    for tool_call in last_message.tool_calls:\n",
    "        tool_name = tool_call[\"name\"]\n",
    "        tool_args = tool_call[\"args\"]\n",
    "        tool_id = tool_call[\"id\"]\n",
    "        \n",
    "        try:\n",
    "            tool = next(t for t in tools if t.name == tool_name)\n",
    "            result = tool.invoke(tool_args)\n",
    "            tool_results.append(\n",
    "                ToolMessage(\n",
    "                    content=json.dumps(result),\n",
    "                    name=tool_name,\n",
    "                    tool_call_id=tool_id\n",
    "                )\n",
    "            )\n",
    "        except Exception as e:\n",
    "            tool_results.append(\n",
    "                ToolMessage(\n",
    "                    content=f\"Error: {str(e)}\",\n",
    "                    name=tool_name,\n",
    "                    tool_call_id=tool_id\n",
    "                )\n",
    "            )\n",
    "    \n",
    "    return {\"messages\": tool_results}\n",
    "\n",
    "# Define Conditional Edges\n",
    "def stop_or_tools(state: State):\n",
    "    messages = state[\"messages\"]\n",
    "    if not messages:\n",
    "        return END\n",
    "    \n",
    "    last_message = messages[-1]\n",
    "    \n",
    "    if isinstance(last_message, HumanMessage):\n",
    "        return \"chat\"\n",
    "    \n",
    "    if isinstance(last_message, ToolMessage):\n",
    "        return \"chat\"\n",
    "    \n",
    "    if isinstance(last_message, AIMessage) and not last_message.tool_calls:\n",
    "        return END\n",
    "    \n",
    "    if isinstance(last_message, AIMessage) and last_message.tool_calls:\n",
    "        return \"tools\"\n",
    "    \n",
    "    return END\n",
    "\n",
    "# Build Graph\n",
    "memory = MemorySaver()\n",
    "graph = StateGraph(State)\n",
    "graph.add_node(\"chat\", chatbot_node)\n",
    "graph.add_node(\"tools\", tool_runner_node)\n",
    "graph.set_entry_point(\"chat\")\n",
    "graph.add_edge(\"tools\", \"chat\")\n",
    "graph.add_conditional_edges(\"chat\", stop_or_tools)\n",
    "compiled_graph = graph.compile(checkpointer=memory)\n",
    "\n",
    "# CLI Interface\n",
    "if __name__ == \"__main__\":\n",
    "    print(\"LangGraph Assistant: Type 'exit' to quit\")\n",
    "    thread_id = \"user-123\"\n",
    "    \n",
    "    while True:\n",
    "        user_input = input(\"\\nYou: \").strip()\n",
    "        if user_input.lower() in (\"exit\", \"quit\"):\n",
    "            break\n",
    "            \n",
    "        try:\n",
    "            result = compiled_graph.invoke(\n",
    "                {\"messages\": [HumanMessage(content=user_input)]},\n",
    "                config={\n",
    "                    \"configurable\": {\"thread_id\": thread_id},\n",
    "                    \"recursion_limit\": 20\n",
    "                }\n",
    "            )\n",
    "            print(\"Assistant:\", result[\"messages\"][-1].content)\n",
    "        except Exception as e:\n",
    "            print(f\"Error: {str(e)}\")"
   ]
  },
  {
   "cell_type": "code",
   "execution_count": null,
   "id": "be306f6c-65b4-4dcb-9373-e6c5deb22d4a",
   "metadata": {},
   "outputs": [],
   "source": []
  }
 ],
 "metadata": {
  "kernelspec": {
   "display_name": "Python 3 (ipykernel)",
   "language": "python",
   "name": "python3"
  },
  "language_info": {
   "codemirror_mode": {
    "name": "ipython",
    "version": 3
   },
   "file_extension": ".py",
   "mimetype": "text/x-python",
   "name": "python",
   "nbconvert_exporter": "python",
   "pygments_lexer": "ipython3",
   "version": "3.13.2"
  }
 },
 "nbformat": 4,
 "nbformat_minor": 5
}
